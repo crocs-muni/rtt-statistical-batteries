{
 "cells": [
  {
   "cell_type": "code",
   "execution_count": 17,
   "metadata": {},
   "outputs": [],
   "source": [
    "import numpy\n",
    "import struct\n",
    "import os\n",
    "\n",
    "\n",
    "def set_cwd():\n",
    "    os.chdir(\"../inputs\")\n"
   ]
  },
  {
   "cell_type": "code",
   "execution_count": 18,
   "metadata": {},
   "outputs": [],
   "source": [
    "def generate_random_bytes_of_length(length: int) -> bytearray:\n",
    "    return struct.pack('B' * length, *numpy.random.bytes(length))\n"
   ]
  },
  {
   "cell_type": "code",
   "execution_count": 19,
   "metadata": {},
   "outputs": [],
   "source": [
    "# generate random\n",
    "set_cwd()\n",
    "for i in range(7000, 49001, 7000):\n",
    "    with open(f\"test_input_{i}b.bin\", 'wb') as fh:\n",
    "        fh.write(generate_random_bytes_of_length(i))\n"
   ]
  },
  {
   "cell_type": "code",
   "execution_count": 20,
   "metadata": {},
   "outputs": [],
   "source": [
    "# generate ones\n",
    "set_cwd()\n",
    "for i in range(3000, 18001, 3000):\n",
    "    with open(f\"test_ones_{i}b.bin\", 'wb') as fh:\n",
    "        fh.write(numpy.ones(i, dtype=numpy.byte))\n"
   ]
  }
 ],
 "metadata": {
  "interpreter": {
   "hash": "31f2aee4e71d21fbe5cf8b01ff0e069b9275f58929596ceb00d14d90e3e16cd6"
  },
  "kernelspec": {
   "display_name": "Python 3.6.8 64-bit",
   "language": "python",
   "name": "python3"
  },
  "language_info": {
   "codemirror_mode": {
    "name": "ipython",
    "version": 3
   },
   "file_extension": ".py",
   "mimetype": "text/x-python",
   "name": "python",
   "nbconvert_exporter": "python",
   "pygments_lexer": "ipython3",
   "version": "3.6.9"
  },
  "orig_nbformat": 4
 },
 "nbformat": 4,
 "nbformat_minor": 2
}
