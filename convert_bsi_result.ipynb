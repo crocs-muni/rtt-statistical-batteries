{
 "cells": [
  {
   "cell_type": "code",
   "execution_count": 16,
   "metadata": {},
   "outputs": [],
   "source": [
    "import json\n",
    "\n",
    "JSON_FILE = \"bsi-src/results/test.json\""
   ]
  },
  {
   "cell_type": "code",
   "execution_count": 17,
   "metadata": {},
   "outputs": [
    {
     "data": {
      "text/plain": [
       "{'sequence': 'assets/bsi_input.rnd',\n",
       " 'tests': [{'error': False,\n",
       "   'name': 'T0 - Words',\n",
       "   'num_failures': 0,\n",
       "   'num_runs': 261},\n",
       "  {'error': False, 'name': 'T1 - Monobit', 'num_failures': 0, 'num_runs': 257},\n",
       "  {'error': False, 'name': 'T2 - Poker', 'num_failures': 0, 'num_runs': 257},\n",
       "  {'error': False, 'name': 'T3 - Runs', 'num_failures': 0, 'num_runs': 257},\n",
       "  {'error': False,\n",
       "   'name': 'T4 - Long run',\n",
       "   'num_failures': 0,\n",
       "   'num_runs': 257},\n",
       "  {'error': False,\n",
       "   'name': 'T5 - Autocorrelation',\n",
       "   'num_failures': 0,\n",
       "   'num_runs': 257},\n",
       "  {'error': False,\n",
       "   'name': 'T6 - Uniform Distribution',\n",
       "   'num_failures': 8224,\n",
       "   'num_runs': 8224},\n",
       "  {'error': False,\n",
       "   'name': 'T7 - Homogenity',\n",
       "   'num_failures': 4,\n",
       "   'num_runs': 170},\n",
       "  {'error': False,\n",
       "   'name': 'T8 - Entropy',\n",
       "   'num_failures': 0,\n",
       "   'num_runs': 397}]}"
      ]
     },
     "execution_count": 17,
     "metadata": {},
     "output_type": "execute_result"
    }
   ],
   "source": [
    "data = open(JSON_FILE, 'r').read()\n",
    "JSON = json.loads(data)\n",
    "JSON\n"
   ]
  },
  {
   "cell_type": "code",
   "execution_count": 25,
   "metadata": {},
   "outputs": [
    {
     "name": "stdout",
     "output_type": "stream",
     "text": [
      "input_sequence: assets/bsi_input.rnd\n",
      "Bsi Test Results: \n",
      "\tName: T0 - Words, error: False, num_runs: 261, num_failures: 0\n",
      "\tName: T1 - Monobit, error: False, num_runs: 257, num_failures: 0\n",
      "\tName: T2 - Poker, error: False, num_runs: 257, num_failures: 0\n",
      "\tName: T3 - Runs, error: False, num_runs: 257, num_failures: 0\n",
      "\tName: T4 - Long run, error: False, num_runs: 257, num_failures: 0\n",
      "\tName: T5 - Autocorrelation, error: False, num_runs: 257, num_failures: 0\n",
      "\tName: T6 - Uniform Distribution, error: False, num_runs: 8224, num_failures: 8224\n",
      "\tName: T7 - Homogenity, error: False, num_runs: 170, num_failures: 4\n",
      "\tName: T8 - Entropy, error: False, num_runs: 397, num_failures: 0\n",
      "\n"
     ]
    }
   ],
   "source": [
    "# handle bsi battery output\n",
    "\n",
    "class BsiTest:\n",
    "  def __init__(self, name, error, num_runs, num_failures):\n",
    "    self.name = name\n",
    "    self.error = error\n",
    "    self.num_runs = num_runs\n",
    "    self.num_failures = num_failures\n",
    "\n",
    "  def __str__(self):\n",
    "    return f\"Name: {self.name}, error: {self.error}, num_runs: {self.num_runs}, num_failures: {self.num_failures}\"\n",
    "\n",
    "class BsiResult:\n",
    "  def __init__(self, sequence):\n",
    "    self.sequence = sequence\n",
    "    self.tests = list()\n",
    "\n",
    "  def __str__(self):\n",
    "    __str = f\"input_sequence: {self.sequence}\\n\"\n",
    "    __str += \"Bsi Test Results: \\n\"\n",
    "    for test in self.tests:\n",
    "      __str += f\"\\t{str(test)}\\n\"\n",
    "\n",
    "    return __str\n",
    "\n",
    "try:\n",
    "  bsi_result = BsiResult(JSON[\"sequence\"])\n",
    "  for test in JSON[\"tests\"]:\n",
    "    bsi_test = BsiTest(test[\"name\"], test[\"error\"], test[\"num_runs\"], test[\"num_failures\"])\n",
    "    bsi_result.tests.append(bsi_test)\n",
    "  print(bsi_result)\n",
    "except Exception as e:\n",
    "  print(e)\n",
    "\n"
   ]
  }
 ],
 "metadata": {
  "interpreter": {
   "hash": "767d51c1340bd893661ea55ea3124f6de3c7a262a8b4abca0554b478b1e2ff90"
  },
  "kernelspec": {
   "display_name": "Python 3.6.9 64-bit",
   "language": "python",
   "name": "python3"
  },
  "language_info": {
   "codemirror_mode": {
    "name": "ipython",
    "version": 3
   },
   "file_extension": ".py",
   "mimetype": "text/x-python",
   "name": "python",
   "nbconvert_exporter": "python",
   "pygments_lexer": "ipython3",
   "version": "3.10.2"
  },
  "orig_nbformat": 4
 },
 "nbformat": 4,
 "nbformat_minor": 2
}
